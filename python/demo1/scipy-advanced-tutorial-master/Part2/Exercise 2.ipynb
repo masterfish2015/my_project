{
 "cells": [
  {
   "cell_type": "code",
   "execution_count": null,
   "metadata": {
    "collapsed": true
   },
   "outputs": [],
   "source": [
    "def answer(name):\n",
    "    with open('sln/' + name) as f: get_ipython().set_next_input(f.read(), replace=True)"
   ]
  },
  {
   "cell_type": "markdown",
   "metadata": {},
   "source": [
    "Using the template below, make a widget view that displays text, possibly 'Hello World'."
   ]
  },
  {
   "cell_type": "code",
   "execution_count": null,
   "metadata": {
    "collapsed": false
   },
   "outputs": [],
   "source": [
    "%%javascript\n",
    "delete requirejs.s.contexts._.defined.CustomViewModule;\n",
    "define('CustomViewModule', ['jquery', 'widgets/js/widget'], function($, widget) {\n",
    "    var CustomView = widget.DOMWidgetView.extend({\n",
    "\n",
    "    });\n",
    "    return {CustomView: CustomView};\n",
    "});"
   ]
  },
  {
   "cell_type": "code",
   "execution_count": null,
   "metadata": {
    "collapsed": true
   },
   "outputs": [],
   "source": [
    "from IPython.html.widgets import DOMWidget\n",
    "from IPython.display import display\n",
    "from IPython.utils.traitlets import Unicode\n",
    "class CustomWidget(DOMWidget):\n",
    "    _view_module = Unicode('CustomViewModule', sync=True)\n",
    "    _view_name = Unicode('CustomView', sync=True)\n",
    "display(CustomWidget())"
   ]
  },
  {
   "cell_type": "code",
   "execution_count": null,
   "metadata": {
    "collapsed": false
   },
   "outputs": [],
   "source": [
    "answer('2_1.js')"
   ]
  },
  {
   "cell_type": "code",
   "execution_count": null,
   "metadata": {
    "collapsed": true
   },
   "outputs": [],
   "source": [
    "answer('2_1.py')"
   ]
  },
  {
   "cell_type": "markdown",
   "metadata": {},
   "source": [
    "Using the template below, make a color picker widget.  This can be done in a few steps:\n",
    "1. Add a synced traitlet to the Python class.\n",
    "2. Add a render method that inserts a input element, with attribute `type='color'`.  The easiest way to do this is to use jQuery.\n",
    "3. Add a method that updates the color picker's value to the model's value.  Use `listenTo` listen to changes of the model.\n",
    "4. Listen to changes of the color picker's value, and update the model accordingly."
   ]
  },
  {
   "cell_type": "code",
   "execution_count": null,
   "metadata": {
    "collapsed": true
   },
   "outputs": [],
   "source": [
    "from IPython.html.widgets import DOMWidget\n",
    "from IPython.display import display\n",
    "from IPython.utils.traitlets import Unicode\n",
    "class ColorWidget(DOMWidget):\n",
    "    _view_module = Unicode('ColorViewModule', sync=True)\n",
    "    _view_name = Unicode('ColorView', sync=True)\n",
    "    "
   ]
  },
  {
   "cell_type": "code",
   "execution_count": null,
   "metadata": {
    "collapsed": false
   },
   "outputs": [],
   "source": [
    "%%javascript\n",
    "delete requirejs.s.contexts._.defined.ColorViewModule;\n",
    "define('ColorViewModule', ['jquery', 'widgets/js/widget'], function($, widget) {\n",
    "    \n",
    "    var ColorView = widget.DOMWidgetView.extend({\n",
    "    });\n",
    "    \n",
    "    return {ColorView: ColorView};\n",
    "});"
   ]
  },
  {
   "cell_type": "code",
   "execution_count": null,
   "metadata": {
    "collapsed": false
   },
   "outputs": [],
   "source": [
    "answer('2_2.py')"
   ]
  },
  {
   "cell_type": "code",
   "execution_count": null,
   "metadata": {
    "collapsed": true
   },
   "outputs": [],
   "source": [
    "answer('2_2_1.js')"
   ]
  },
  {
   "cell_type": "code",
   "execution_count": null,
   "metadata": {
    "collapsed": false
   },
   "outputs": [],
   "source": [
    "answer('2_2_2.js')"
   ]
  },
  {
   "cell_type": "code",
   "execution_count": null,
   "metadata": {
    "collapsed": false
   },
   "outputs": [],
   "source": [
    "answer('2_2.js')"
   ]
  },
  {
   "cell_type": "code",
   "execution_count": null,
   "metadata": {
    "collapsed": false
   },
   "outputs": [],
   "source": [
    "w = ColorWidget()\n",
    "display(w)"
   ]
  },
  {
   "cell_type": "code",
   "execution_count": null,
   "metadata": {
    "collapsed": true
   },
   "outputs": [],
   "source": [
    "display(w)"
   ]
  },
  {
   "cell_type": "code",
   "execution_count": null,
   "metadata": {
    "collapsed": true
   },
   "outputs": [],
   "source": [
    "w.value = '#00FF00'"
   ]
  },
  {
   "cell_type": "code",
   "execution_count": null,
   "metadata": {
    "collapsed": false
   },
   "outputs": [],
   "source": [
    "w.value"
   ]
  }
 ],
 "metadata": {
  "kernelspec": {
   "display_name": "Python 3",
   "language": "python",
   "name": "python3"
  },
  "language_info": {
   "codemirror_mode": {
    "name": "ipython",
    "version": 3
   },
   "file_extension": ".py",
   "mimetype": "text/x-python",
   "name": "python",
   "nbconvert_exporter": "python",
   "pygments_lexer": "ipython3",
   "version": "3.4.3"
  }
 },
 "nbformat": 4,
 "nbformat_minor": 0
}
