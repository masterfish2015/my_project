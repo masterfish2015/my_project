{
 "cells": [
  {
   "cell_type": "code",
   "execution_count": null,
   "metadata": {},
   "outputs": [],
   "source": [
    "from IPython.html import widgets\n",
    "from IPython.utils.traitlets import link\n",
    "from IPython.display import display"
   ]
  },
  {
   "cell_type": "markdown",
   "metadata": {},
   "source": [
    "List of widgets:"
   ]
  },
  {
   "cell_type": "code",
   "execution_count": 2,
   "metadata": {},
   "outputs": [
    {
     "data": {
      "text/plain": [
       "['Accordion',\n",
       " 'AccordionWidget',\n",
       " 'BoundedFloatText',\n",
       " 'BoundedFloatTextWidget',\n",
       " 'BoundedIntText',\n",
       " 'BoundedIntTextWidget',\n",
       " 'Box',\n",
       " 'Button',\n",
       " 'ButtonWidget',\n",
       " 'CallbackDispatcher',\n",
       " 'Checkbox',\n",
       " 'CheckboxWidget',\n",
       " 'Color',\n",
       " 'ContainerWidget',\n",
       " 'DOMWidget',\n",
       " 'Dropdown',\n",
       " 'DropdownWidget',\n",
       " 'FlexBox',\n",
       " 'FloatProgress',\n",
       " 'FloatProgressWidget',\n",
       " 'FloatRangeSlider',\n",
       " 'FloatSlider',\n",
       " 'FloatSliderWidget',\n",
       " 'FloatText',\n",
       " 'FloatTextWidget',\n",
       " 'HBox',\n",
       " 'HTML',\n",
       " 'HTMLWidget',\n",
       " 'Image',\n",
       " 'ImageWidget',\n",
       " 'IntProgress',\n",
       " 'IntProgressWidget',\n",
       " 'IntRangeSlider',\n",
       " 'IntSlider',\n",
       " 'IntSliderWidget',\n",
       " 'IntText',\n",
       " 'IntTextWidget',\n",
       " 'Latex',\n",
       " 'LatexWidget',\n",
       " 'Output',\n",
       " 'RadioButtons',\n",
       " 'RadioButtonsWidget',\n",
       " 'Select',\n",
       " 'SelectMultiple',\n",
       " 'SelectWidget',\n",
       " 'Tab',\n",
       " 'TabWidget',\n",
       " 'Text',\n",
       " 'TextWidget',\n",
       " 'Textarea',\n",
       " 'TextareaWidget',\n",
       " 'ToggleButton',\n",
       " 'ToggleButtonWidget',\n",
       " 'ToggleButtons',\n",
       " 'ToggleButtonsWidget',\n",
       " 'VBox',\n",
       " 'Widget',\n",
       " '__builtins__',\n",
       " '__doc__',\n",
       " '__file__',\n",
       " '__name__',\n",
       " '__package__',\n",
       " '__path__',\n",
       " '__warningregistry__',\n",
       " 'fixed',\n",
       " 'interact',\n",
       " 'interact_manual',\n",
       " 'interaction',\n",
       " 'interactive',\n",
       " 'jsdlink',\n",
       " 'jslink',\n",
       " 'register',\n",
       " 'trait_types',\n",
       " 'warn_explicit',\n",
       " 'widget',\n",
       " 'widget_bool',\n",
       " 'widget_box',\n",
       " 'widget_button',\n",
       " 'widget_float',\n",
       " 'widget_image',\n",
       " 'widget_int',\n",
       " 'widget_link',\n",
       " 'widget_output',\n",
       " 'widget_selection',\n",
       " 'widget_selectioncontainer',\n",
       " 'widget_string']"
      ]
     },
     "execution_count": 2,
     "metadata": {},
     "output_type": "execute_result"
    }
   ],
   "source": [
    "dir(widgets)"
   ]
  },
  {
   "cell_type": "markdown",
   "metadata": {},
   "source": [
    "Display and link the values of two widgets.  You can use the `link` method in the `traitlets` namespace.  Syntax `link((widget1, 'value'), (widget2, 'value'))"
   ]
  },
  {
   "cell_type": "code",
   "execution_count": null,
   "metadata": {
    "collapsed": true
   },
   "outputs": [],
   "source": []
  },
  {
   "cell_type": "markdown",
   "metadata": {},
   "source": [
    "Solution:"
   ]
  },
  {
   "cell_type": "code",
   "execution_count": 3,
   "metadata": {},
   "outputs": [
    {
     "name": "stderr",
     "output_type": "stream",
     "text": [
      "/home/ldc/.conda/envs/my_root/lib/python3.6/site-packages/IPython/html.py:14: ShimWarning: The `IPython.html` package has been deprecated since IPython 4.0. You should import from `notebook` instead. `IPython.html.widgets` has moved to `ipywidgets`.\n",
      "  \"`IPython.html.widgets` has moved to `ipywidgets`.\", ShimWarning)\n",
      "/home/ldc/.conda/envs/my_root/lib/python3.6/site-packages/ipykernel_launcher.py:3: UserWarning: IPython.utils.traitlets has moved to a top-level traitlets package.\n",
      "  This is separate from the ipykernel package so we can avoid doing imports until\n",
      "Widget Javascript not detected.  It may not be installed or enabled properly.\n"
     ]
    },
    {
     "data": {
      "application/vnd.jupyter.widget-view+json": {
       "model_id": "0382e68795f14c04a56f1a74ab6845cb"
      }
     },
     "metadata": {},
     "output_type": "display_data"
    },
    {
     "name": "stderr",
     "output_type": "stream",
     "text": [
      "Widget Javascript not detected.  It may not be installed or enabled properly.\n"
     ]
    },
    {
     "data": {
      "application/vnd.jupyter.widget-view+json": {
       "model_id": "94b5cf5e847d4cab9fc23c11b58f2aac"
      }
     },
     "metadata": {},
     "output_type": "display_data"
    }
   ],
   "source": [
    "# %load sln/1.py\n",
    "from IPython.html import widgets\n",
    "from IPython.utils.traitlets import link\n",
    "from IPython.display import display\n",
    "slider = widgets.FloatSlider()\n",
    "text = widgets.FloatText()\n",
    "widgetlink = link((slider, 'value'), (text, 'value'))\n",
    "display(slider, text)\n"
   ]
  },
  {
   "cell_type": "code",
   "execution_count": null,
   "metadata": {
    "collapsed": true
   },
   "outputs": [],
   "source": []
  }
 ],
 "metadata": {
  "kernelspec": {
   "display_name": "Python 3",
   "language": "python",
   "name": "python3"
  },
  "language_info": {
   "codemirror_mode": {
    "name": "ipython",
    "version": 3
   },
   "file_extension": ".py",
   "mimetype": "text/x-python",
   "name": "python",
   "nbconvert_exporter": "python",
   "pygments_lexer": "ipython3",
   "version": "3.6.3"
  },
  "latex_envs": {
   "LaTeX_envs_menu_present": true,
   "autocomplete": true,
   "bibliofile": "biblio.bib",
   "cite_by": "apalike",
   "current_citInitial": 1,
   "eqLabelWithNumbers": true,
   "eqNumInitial": 1,
   "hotkeys": {
    "equation": "Ctrl-E",
    "itemize": "Ctrl-I"
   },
   "labels_anchors": false,
   "latex_user_defs": false,
   "report_style_numbering": false,
   "user_envs_cfg": false
  }
 },
 "nbformat": 4,
 "nbformat_minor": 1
}
