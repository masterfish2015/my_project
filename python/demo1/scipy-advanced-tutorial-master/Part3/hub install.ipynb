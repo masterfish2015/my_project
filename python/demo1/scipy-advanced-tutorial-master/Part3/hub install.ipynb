{
 "cells": [
  {
   "cell_type": "markdown",
   "metadata": {
    "slideshow": {
     "slide_type": "slide"
    }
   },
   "source": [
    "#JupyterHub Installation"
   ]
  },
  {
   "cell_type": "markdown",
   "metadata": {},
   "source": [
    "##What is JupyterHub?"
   ]
  },
  {
   "cell_type": "markdown",
   "metadata": {},
   "source": [
    "JupyterHub brings multi-user support to the Jupyter Notebook.\n",
    "\n",
    "More specifically, JupyterHub is a multi-user server that manages and proxies multiple instances of the single-user IPython Jupyter notebook server. "
   ]
  },
  {
   "cell_type": "markdown",
   "metadata": {},
   "source": [
    "![](images/hub.svg)"
   ]
  },
  {
   "cell_type": "markdown",
   "metadata": {
    "slideshow": {
     "slide_type": "slide"
    }
   },
   "source": [
    "##What does JupyterHub solve?"
   ]
  },
  {
   "cell_type": "markdown",
   "metadata": {},
   "source": [
    "If you have a multi-user authentication system in place already, JupyterHub lets you use that authentication for controlling Jupyter Notebook access.  For example, a school’s authentication system can be used to allow students to log into the JupyterHub using their student credentials.  The individual Notebook server will then run using the student’s credentials and only have access to resources that the student has access to."
   ]
  },
  {
   "cell_type": "markdown",
   "metadata": {
    "slideshow": {
     "slide_type": "slide"
    }
   },
   "source": [
    "##Pieces"
   ]
  },
  {
   "cell_type": "markdown",
   "metadata": {},
   "source": [
    "Three pieces are required for the hub to work: the configurable http proxy, the hub itself, and single Jupyter Notebook servers."
   ]
  },
  {
   "cell_type": "markdown",
   "metadata": {},
   "source": [
    "The configurable http proxy is the entry point for all HTTP requests. The initial requests will be proxied to the hub, which handles authentication. Once the user authenticates and requests a notebook server, the hub launches the notebook server and registers a redirect in the configurable http proxy for that user’s name.  Requests under that user’s name are then redirected to their own single notebook server, instead of the hub."
   ]
  },
  {
   "cell_type": "markdown",
   "metadata": {},
   "source": [
    "![](images/pieces.svg)"
   ]
  },
  {
   "cell_type": "markdown",
   "metadata": {
    "slideshow": {
     "slide_type": "slide"
    }
   },
   "source": [
    "##Javascript"
   ]
  },
  {
   "cell_type": "markdown",
   "metadata": {},
   "source": [
    "The configurable HTTP proxy is written in JavaScript.  However, it does not run inside a web browser, instead it runs in a JavaScript interpreter called *Node.js*.  Node.js is a standalone JavaScript interpreter and environment based on the v8 Javascript engine that powers Google Chrome."
   ]
  },
  {
   "cell_type": "markdown",
   "metadata": {},
   "source": [
    "![](images/nodejs.png)"
   ]
  },
  {
   "cell_type": "markdown",
   "metadata": {
    "slideshow": {
     "slide_type": "subslide"
    }
   },
   "source": [
    "Like the Python community, the JavaScript community has it’s own package management solution.  NPM, short for Node Package Manager, is the package manager used to install node.js libraries.  NPM behaves differently from Python packaging in that packages are downloaded and installed in the current working directory, unless you explicitly ask it to install globally, using the `-g` flag."
   ]
  },
  {
   "cell_type": "markdown",
   "metadata": {},
   "source": [
    "![](images/npm-logo.svg)"
   ]
  },
  {
   "cell_type": "markdown",
   "metadata": {
    "slideshow": {
     "slide_type": "subslide"
    }
   },
   "source": [
    "When developing browser facing JavaScript, there is another package manager called Bower.  Bower differs from NPM in that Bower downloads and installs packages in a flat structure, whereas NPM downloads and installs packages in a hierarchy."
   ]
  },
  {
   "cell_type": "markdown",
   "metadata": {},
   "source": [
    "![](images/bower.png)"
   ]
  },
  {
   "cell_type": "markdown",
   "metadata": {
    "slideshow": {
     "slide_type": "slide"
    }
   },
   "source": [
    "##Installing the Hub"
   ]
  },
  {
   "cell_type": "markdown",
   "metadata": {},
   "source": [
    "The first step is to install Node.  You can find an installer for your operating system at their website, https://nodejs.org/.  NPM will automatically install with Node.\n",
    "\n",
    "On Ubuntu/Debian, you can install Node from apt:\n",
    "\n",
    "    sudo apt-get install nodejs-legacy npm"
   ]
  },
  {
   "cell_type": "markdown",
   "metadata": {
    "slideshow": {
     "slide_type": "subslide"
    }
   },
   "source": [
    "Next, install the configurable http proxy globally by running:\n",
    "\n",
    "    sudo npm install -g configurable-http-proxy\n",
    "\n",
    "The `-g` flag installs it globally."
   ]
  },
  {
   "cell_type": "markdown",
   "metadata": {
    "slideshow": {
     "slide_type": "subslide"
    }
   },
   "source": [
    "Next, clone the JupyterHub repository:\n",
    "\n",
    "    git clone https://github.com/jupyter/jupyterhub.git"
   ]
  },
  {
   "cell_type": "markdown",
   "metadata": {
    "slideshow": {
     "slide_type": "subslide"
    }
   },
   "source": [
    "Install JupyterHub’s JavaScript dependencies.  First navigate into the freshly cloned repository, `cd jupyterhub`.  Then run:\n",
    "\n",
    "    python3 setup.py js css"
   ]
  },
  {
   "cell_type": "markdown",
   "metadata": {
    "slideshow": {
     "slide_type": "subslide"
    }
   },
   "source": [
    "Install JupyterHub’s Python dependencies, and Jupyterhub itself, by running:\n",
    "\n",
    "    pip3 install -r requirements.txt\n",
    "    pip3 install ."
   ]
  },
  {
   "cell_type": "markdown",
   "metadata": {
    "slideshow": {
     "slide_type": "subslide"
    }
   },
   "source": [
    "If everything worked, you should be able to launch JupyterHub by running `jupyterhub`.  Open a web browser and navigate to `http://localhost:8000/` to test.  You should be able to login using local system credentials."
   ]
  },
  {
   "cell_type": "markdown",
   "metadata": {
    "slideshow": {
     "slide_type": "slide"
    }
   },
   "source": [
    "##Custom authentication"
   ]
  },
  {
   "cell_type": "markdown",
   "metadata": {},
   "source": [
    "By default JupyterHub uses PAM - the Unix system authentication - to authenticate users. However, the authentication is configurable. A popular replacement for PAM is the GitHub OAuth plugin, which allows uses to sign in using their GitHub account.\n",
    "\n",
    "To install GitHub OAuth, first clone the repository:\n",
    "\n",
    "    git clone https://github.com/jupyter/oauthenticator.git"
   ]
  },
  {
   "cell_type": "markdown",
   "metadata": {
    "slideshow": {
     "slide_type": "subslide"
    }
   },
   "source": [
    "Then navigate into the new directory `cd oauthenticator` and install the requirements, and oauthenticator itself:\n",
    "\n",
    "    pip3 install -r requirements.txt\n",
    "    pip3 install ."
   ]
  },
  {
   "cell_type": "markdown",
   "metadata": {
    "slideshow": {
     "slide_type": "subslide"
    }
   },
   "source": [
    "Next, you need to [register a GitHub application](https://github.com/settings/applications/new).  The important part here is that the Authorization callback URL is `http://localhost:8000/hub/oauth_callback`. \n",
    "Navigate to the directory that you will launch jupyterhub from, I suggest your home directory `cd ~`.  Create a hub configuration file by running:\n",
    "\n",
    "    jupyterhub --generate-config\n",
    "\n",
    "This should create a `jupyterhub_config.py` in the current directoy.  Anytime you launch the hub, it looks in the current directory to see if a file by that name exists.  If it does, it loads it as the configuration file.  "
   ]
  },
  {
   "cell_type": "markdown",
   "metadata": {
    "slideshow": {
     "slide_type": "subslide"
    }
   },
   "source": [
    "Open the new configuration file and add the following lines:\n",
    "\n",
    "```python\n",
    "c.JupyterHub.authenticator_class = 'oauthenticator.GitHubOAuthenticator'\n",
    "c.GitHubOAuthenticator.oauth_callback_url = ''  # Fill these in from Github\n",
    "c.GitHubOAuthenticator.github_client_id = ''\n",
    "c.GitHubOAuthenticator.github_client_secret = ''\n",
    "```\n",
    "\n",
    "The last 3 values you will need to get from the GitHub application you set-up earlier.\n",
    "Now run JupyterHub and try logging in.  You should be able to log on, but when you try to launch a server, you’ll probably see an error.  This is because a local user by the same name of the GitHub account isn’t registered on your machine."
   ]
  },
  {
   "cell_type": "markdown",
   "metadata": {
    "slideshow": {
     "slide_type": "slide"
    }
   },
   "source": [
    "##Custom spawner"
   ]
  },
  {
   "cell_type": "markdown",
   "metadata": {},
   "source": [
    "To test the GitHub authentication completely, you will install a custom spawner which launches the single user servers in docker containers.  This allows any user to login safely without causing harm to your machine beyond what can be done in the container.\n",
    "\n",
    "First clone the dockerspawner:\n",
    "\n",
    "    git clone https://github.com/jupyter/dockerspawner.git\n",
    "    \n",
    "Then navigate into the directory: `cd dockerspawner`."
   ]
  },
  {
   "cell_type": "markdown",
   "metadata": {
    "slideshow": {
     "slide_type": "subslide"
    }
   },
   "source": [
    "Install the dependencies and the project itself:\n",
    "\n",
    "    pip3 install -r requirements.txt\n",
    "    pip3 install ."
   ]
  },
  {
   "cell_type": "markdown",
   "metadata": {
    "slideshow": {
     "slide_type": "subslide"
    }
   },
   "source": [
    "Now, open the jupyterhub_config.py file that you created earlier, and add the following line to it:\n",
    "\n",
    "```python\n",
    "c.JupyterHub.spawner_class = 'dockerspawner.DockerSpawner'\n",
    "```\n",
    "\n",
    "Save and close the file."
   ]
  },
  {
   "cell_type": "markdown",
   "metadata": {
    "slideshow": {
     "slide_type": "subslide"
    }
   },
   "source": [
    "Install boot2docker via the instructions for your operating system at https://docs.docker.com/installation.  Start boot2docker by running:\n",
    "\n",
    "    boot2docker init\n",
    "    boot2docker up\n",
    "\n",
    "You should see output that reads `To connect the Docker client to the Docker daemon, please set...` and below it will be some commands. Run those commands. Then download the single user server image:\n",
    "\n",
    "    docker pull jupyter/singleuser\n",
    "\n",
    "**Don't try to do this in the tutorial** - the docker image is about 1GB, so it would probably demolish the wifi."
   ]
  },
  {
   "cell_type": "markdown",
   "metadata": {
    "slideshow": {
     "slide_type": "subslide"
    }
   },
   "source": [
    "You should now be able to run jupyterhub from your home directory (or wherever your config file is) and login in using GitHub credentials to launch a server inside a docker container."
   ]
  },
  {
   "cell_type": "code",
   "execution_count": 1,
   "metadata": {
    "collapsed": false
   },
   "outputs": [
    {
     "data": {
      "text/html": [
       "<link rel=\"stylesheet\" type=\"text/css\" href=\"../style.css\">\n",
       "<script>require(['notebook/js/scrollmanager'], function(sm) { IPython.notebook.scroll_manager = new sm.SlideScrollManager(IPython.notebook); });</script>"
      ],
      "text/plain": [
       "<IPython.core.display.HTML object>"
      ]
     },
     "metadata": {},
     "output_type": "display_data"
    }
   ],
   "source": [
    "%%html\n",
    "<link rel=\"stylesheet\" type=\"text/css\" href=\"../style.css\">\n",
    "<script>require(['notebook/js/scrollmanager'], function(sm) { IPython.notebook.scroll_manager = new sm.SlideScrollManager(IPython.notebook); });</script>"
   ]
  }
 ],
 "metadata": {
  "kernelspec": {
   "display_name": "Python 3",
   "language": "python",
   "name": "python3"
  },
  "language_info": {
   "codemirror_mode": {
    "name": "ipython",
    "version": 3
   },
   "file_extension": ".py",
   "mimetype": "text/x-python",
   "name": "python",
   "nbconvert_exporter": "python",
   "pygments_lexer": "ipython3",
   "version": "3.4.3"
  }
 },
 "nbformat": 4,
 "nbformat_minor": 0
}
