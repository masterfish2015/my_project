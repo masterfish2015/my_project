{
 "cells": [
  {
   "cell_type": "markdown",
   "metadata": {},
   "source": [
    "# The Python Tutorial\n",
    "https://docs.python.org/3.5/tutorial/index.html"
   ]
  },
  {
   "cell_type": "markdown",
   "metadata": {},
   "source": [
    "## 1.An Informal Introduction to Python\n",
    "### 1.1 Using Python as a Calculator\n",
    "#### 1.1.1. Numbers\n",
    "##### [1]直接数值运算"
   ]
  },
  {
   "cell_type": "code",
   "execution_count": 8,
   "metadata": {},
   "outputs": [
    {
     "name": "stdout",
     "output_type": "stream",
     "text": [
      "2+2= 4\n",
      "50-5*6= 20\n",
      "(50-5*6)/4= 5.0\n",
      "17/3= 5.666666666666667\n",
      "17//3= 5\n",
      "17%3= 2\n",
      "5*3+2= 17\n",
      "5**2= 25\n",
      "4**(0.5)= 2.0\n"
     ]
    }
   ],
   "source": [
    "print('2+2=',2+2)\n",
    "print('50-5*6=',50-5*6)\n",
    "print('(50-5*6)/4=',(50-5*6)/4)\n",
    "print('17/3=',17/3)   #代数除\n",
    "print('17//3=',17//3)  #整除\n",
    "print('17%3=',17%3) #取余数\n",
    "print('5*3+2=', 5*3+2)\n",
    "print('5**2=',5**2)\n",
    "print('4**(0.5)=',4**(0.5))"
   ]
  },
  {
   "cell_type": "markdown",
   "metadata": {},
   "source": [
    "##### [2]变量"
   ]
  },
  {
   "cell_type": "code",
   "execution_count": 11,
   "metadata": {},
   "outputs": [
    {
     "name": "stdout",
     "output_type": "stream",
     "text": [
      "width= 20\n",
      "height= 45\n",
      "width*height= 900\n",
      "n= 100\n"
     ]
    }
   ],
   "source": [
    "width=20\n",
    "height=5*9\n",
    "print('width=',width)\n",
    "print('height=',height)\n",
    "print('width*height=',width*height)\n",
    "# print('n is not initialize, n=', n)\n",
    "n=100\n",
    "print('n=',n)"
   ]
  },
  {
   "cell_type": "markdown",
   "metadata": {},
   "source": [
    "#### 1.1.2 String\n",
    "##### 【1】string literals"
   ]
  },
  {
   "cell_type": "code",
   "execution_count": 15,
   "metadata": {},
   "outputs": [
    {
     "name": "stdout",
     "output_type": "stream",
     "text": [
      "spam eggs\n",
      "doesn't\n",
      "doesn't\n",
      "\"yes,\" he said.\n",
      "first line.\n",
      "second line\n",
      "c:\\some\n",
      "ame\n",
      "c:\\some\\name\n",
      "Usage: thingy [OPTION]\n",
      "    -h            Display this usage message\n",
      "    -H hostname   Hostname to connect to\n",
      "\n"
     ]
    }
   ],
   "source": [
    "print('spam eggs') #single quates\n",
    "print('doesn\\'t')  #escape char \\'=='\n",
    "print(\"doesn't\")   #mix using \" and '\n",
    "print('\"yes,\" he said.')\n",
    "#escape char \\n==change line\n",
    "print('first line.\\nsecond line') \n",
    "print(\"c:\\some\\name\") #note \\n \n",
    "print(r\"c:\\some\\name\")#r表示字符串没有escape\n",
    "#'''或\"\"\"都可以显示多行的原始string\n",
    "print('''\\\n",
    "Usage: thingy [OPTION]\n",
    "    -h            Display this usage message\n",
    "    -H hostname   Hostname to connect to\n",
    "''')"
   ]
  },
  {
   "cell_type": "markdown",
   "metadata": {},
   "source": [
    "##### [2] string operator"
   ]
  },
  {
   "cell_type": "code",
   "execution_count": 17,
   "metadata": {},
   "outputs": [
    {
     "name": "stdout",
     "output_type": "stream",
     "text": [
      "hello world!\n",
      "hahaha\n"
     ]
    }
   ],
   "source": [
    "print('hello ''world!')\n",
    "print(\"hello \"+\"world!\") #+将两个字符串连接\n",
    "print(3*'ha')          #*生成重复的字符串"
   ]
  },
  {
   "cell_type": "code",
   "execution_count": null,
   "metadata": {},
   "outputs": [],
   "source": []
  }
 ],
 "metadata": {
  "kernelspec": {
   "display_name": "Python 3",
   "language": "python",
   "name": "python3"
  },
  "language_info": {
   "codemirror_mode": {
    "name": "ipython",
    "version": 3
   },
   "file_extension": ".py",
   "mimetype": "text/x-python",
   "name": "python",
   "nbconvert_exporter": "python",
   "pygments_lexer": "ipython3",
   "version": "3.5.4"
  },
  "widgets": {
   "state": {},
   "version": "1.1.2"
  }
 },
 "nbformat": 4,
 "nbformat_minor": 2
}
