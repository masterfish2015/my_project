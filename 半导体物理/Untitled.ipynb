{
 "cells": [
  {
   "cell_type": "code",
   "execution_count": 2,
   "metadata": {},
   "outputs": [],
   "source": [
    "import sympy as sy\n",
    "import numpy as np\n"
   ]
  },
  {
   "cell_type": "code",
   "execution_count": 17,
   "metadata": {},
   "outputs": [
    {
     "name": "stdout",
     "output_type": "stream",
     "text": [
      "Ec_min=8.165603e-20J, 0.5097130700926986eV\n",
      "Ev_max=6.804669e-20J, 0.42476089174391557eV\n",
      "Eg=0.08495217834878308\n"
     ]
    }
   ],
   "source": [
    "hbar=1.054e-34\n",
    "a=0.543e-9\n",
    "k1=np.pi/a\n",
    "m0=9.108e-31\n",
    "ev=1.602e-19\n",
    "\n",
    "def ec(k):\n",
    "    a1 = (hbar*k)**2/(2*m0)\n",
    "    a2 = (hbar*(k-k1))**2/(3*m0)\n",
    "    return a1+a2\n",
    "\n",
    "def evv(k):\n",
    "    a1 = (hbar*k1)**2/(6*m0)\n",
    "    a2 = 2*(hbar*k)**2/m0\n",
    "    return a1-a2\n",
    "\n",
    "ec_min = ec(2*k1/5)\n",
    "ev_max = evv(0)\n",
    "print(f\"Ec_min={ec_min:e}J, {ec_min/ev}eV\")\n",
    "print(f\"Ev_max={ev_max:e}J, {ev_max/ev}eV\")\n",
    "print(f\"Eg={(ec_min-ev_max)/ev}\")"
   ]
  },
  {
   "cell_type": "code",
   "execution_count": 12,
   "metadata": {},
   "outputs": [
    {
     "name": "stdout",
     "output_type": "stream",
     "text": [
      "T=42.01272627588979K\n",
      "2.56155281280883e+21\n"
     ]
    }
   ],
   "source": [
    "from scipy.optimize import bisect\n",
    "\n",
    "h=6.625e-34\n",
    "m0=9.108e-31\n",
    "ev=1.602e-19\n",
    "k0=1.380e-23\n",
    "D_=0.1\n",
    "Nd=1e15*1e6\n",
    "mn=0.56*m0\n",
    "\n",
    "def f1(T):\n",
    "    delta_Ed=0.012*ev\n",
    "    a1=delta_Ed/(k0*T)\n",
    "    a2=3*np.log(T)/2.0\n",
    "    a3=np.log(D_/Nd*(2*np.pi*k0*mn)**(3/2)/h**3)\n",
    "    return a1-(a2+a3)\n",
    "\n",
    "print(f\"T={bisect(f1,1,500)}K\")\n",
    "\n",
    "ni=2e21\n",
    "n0=(Nd+(Nd**2+4*ni**2)**0.5)/2\n",
    "print(n0)"
   ]
  },
  {
   "cell_type": "code",
   "execution_count": 13,
   "metadata": {},
   "outputs": [
    {
     "name": "stdout",
     "output_type": "stream",
     "text": [
      "ρ=0.049999999999999996\n"
     ]
    }
   ],
   "source": [
    "R=75\n",
    "S=0.001\n",
    "l=1.5\n",
    "rho=R*S/l\n",
    "print(f\"ρ={rho}\")"
   ]
  }
 ],
 "metadata": {
  "kernelspec": {
   "display_name": "Python 3",
   "language": "python",
   "name": "python3"
  },
  "language_info": {
   "codemirror_mode": {
    "name": "ipython",
    "version": 3
   },
   "file_extension": ".py",
   "mimetype": "text/x-python",
   "name": "python",
   "nbconvert_exporter": "python",
   "pygments_lexer": "ipython3",
   "version": "3.7.2"
  }
 },
 "nbformat": 4,
 "nbformat_minor": 2
}
