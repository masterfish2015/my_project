{
 "cells": [
  {
   "cell_type": "markdown",
   "metadata": {
    "slideshow": {
     "slide_type": "slide"
    }
   },
   "source": [
    "# 第六章 数组"
   ]
  },
  {
   "cell_type": "markdown",
   "metadata": {
    "slideshow": {
     "slide_type": "subslide"
    }
   },
   "source": [
    "## 本章主要内容\n",
    "\n",
    "- 一维数组\n",
    "- 二维和多维数组\n",
    "- 字符数组和字符串"
   ]
  },
  {
   "cell_type": "markdown",
   "metadata": {
    "slideshow": {
     "slide_type": "slide"
    }
   },
   "source": [
    "## 6.1 一维数组"
   ]
  },
  {
   "cell_type": "markdown",
   "metadata": {
    "slideshow": {
     "slide_type": "subslide"
    }
   },
   "source": [
    "### 6.1.1 一维数组的定义和使用\n",
    "- 语法：\n",
    "```c\n",
    "元素类型 数组变量名[总元素个数];\n",
    "```\n",
    "\n",
    "- 说明\n",
    " - 数组名的命名规则和变量名一致\n",
    " - 在定义数组的时候，可以直接指定数组的大小，即数组里面元素的个数，称为**数组的长度**"
   ]
  },
  {
   "cell_type": "markdown",
   "metadata": {
    "slideshow": {
     "slide_type": "subslide"
    }
   },
   "source": [
    "```c\n",
    "#include \"stdio.h\"\n",
    "int main()\n",
    "{\n",
    "    int n,d1[5]={1,6,2}; //定义数组和初始化\n",
    "    for(int i=0;i<5;i++){ //注意下标从0开始，到n-1\n",
    "        printf(\"%d,\", d1[i]);//使用数组\n",
    "    }\n",
    "    //数组和数组元素占内存的实际字节数\n",
    "    printf(\"%lu,%lu\\n\", sizeof(d1), sizeof(d1[0]));\n",
    "    return 0;\n",
    "}\n",
    "```\n",
    "输出：\n",
    "```c\n",
    "1,6,2,0,0\n",
    "```"
   ]
  },
  {
   "cell_type": "markdown",
   "metadata": {
    "slideshow": {
     "slide_type": "subslide"
    }
   },
   "source": [
    "### 6.1.2 一维数组的初始化\n",
    "\n",
    "- 数组的初始化\n",
    " - 在定义数组的时候，给数组元素赋予初值\n",
    " \n",
    "```c\n",
    "int a[4]={1,2,3,4,5]; //完全赋予每个元素初始值\n",
    "double b[3]={3.14, 1.618}; //部分元素赋初值，其他的都被设置为0\n",
    "float c[] = { 0.1, 0.4, 0.7} ; //没有设置数组长度，其长度由初始值个数决定\n",
    "int n = sizeof(c)/sizeof(float); //获得数组c的长度（元素个数）\n",
    "```"
   ]
  },
  {
   "cell_type": "markdown",
   "metadata": {
    "slideshow": {
     "slide_type": "subslide"
    }
   },
   "source": [
    "### 6.1.3 一维数组的应用实例"
   ]
  },
  {
   "cell_type": "markdown",
   "metadata": {
    "slideshow": {
     "slide_type": "subslide"
    }
   },
   "source": [
    "#### 例6.1 遍历查找数据\n",
    "如下表所示的对数表，编写程序进行查找。\n",
    "\n",
    "| x | 1.0  | 1.1 | 1.2 | 1.3 | 1.4 | 1.5 | 1.6 | 1.7 | 1.8 | 1.9 | 2.0 |\n",
    "|---|------|-----|-----|-----|-----|-----|-----|-----|-----|-----|-----|\n",
    "| y | 0.0000 | 0.0414 | 0.0792 | 0.1139 | 0.1461 | 0.1761 | 0.2041 | 0.2304 | 0.2553 | 0.2788 | 0.3010 |\n",
    "\n",
    "<img src=\"images/fig-demo6-2.png\" />"
   ]
  },
  {
   "cell_type": "markdown",
   "metadata": {
    "slideshow": {
     "slide_type": "subslide"
    }
   },
   "source": [
    "```c\n",
    "#include \"stdio.h\"\n",
    "#include \"math.h\"\n",
    "#define DELTA 1e-6\n",
    "int main()\n",
    "{  double data_x[]={1.0, 1.1, 1.2, 1.3, 1.4, \n",
    "             1.50, 1.6, 1.7, 1.8, 1.9, 2.0};\n",
    "   double data_y[]={0, 0.0414, 0.0792, 0.1139, \n",
    "             0.1461, 0.1761, 0.2041, 0.2304, \n",
    "             0.2553, 0.2788, 0.3010};\n",
    "    double x;  int i, flag = 0, n;\n",
    "    char *str=\"1.4\";\n",
    "    n=sizeof(data_x)/sizeof(double);\n",
    "    puts(\"input x:\"); sscanf(str, \"%lf\", &x);\n",
    "    for(i=0; i<n && flag==0; )\n",
    "        if( fabs(data_x[i] - x) < DELTA)flag = 1;\n",
    "        else i++;\n",
    "    if(flag == 1)\n",
    "      printf(\"%i, log(%.2lf)=%.4lf\\n\", i, \n",
    "               data_x[i], data_y[i]);\n",
    "    else printf(\"not found.\\n\");\n",
    "    return 0;\n",
    "}```"
   ]
  }
 ],
 "metadata": {
  "celltoolbar": "幻灯片",
  "kernelspec": {
   "display_name": "C",
   "language": "c",
   "name": "bash"
  },
  "language_info": {
   "file_extension": ".c",
   "mimetype": "text/plain",
   "name": "c"
  },
  "livereveal": {
   "height": 768,
   "theme": "sky",
   "width": 1024
  }
 },
 "nbformat": 4,
 "nbformat_minor": 2
}
