{
 "cells": [
  {
   "cell_type": "markdown",
   "metadata": {
    "slideshow": {
     "slide_type": "slide"
    }
   },
   "source": [
    "# 第一章 程序设计和C语言"
   ]
  },
  {
   "cell_type": "markdown",
   "metadata": {
    "slideshow": {
     "slide_type": "slide"
    }
   },
   "source": [
    "## 1.1 什么是计算机程序\n",
    "\n",
    "<hr>\n",
    "<dl>\n",
    "    <dt>程序</dt>\n",
    "    <dd>一组计算机能识别和执行的指令</dd>\n",
    "</dl>"
   ]
  },
  {
   "cell_type": "markdown",
   "metadata": {
    "slideshow": {
     "slide_type": "slide"
    }
   },
   "source": [
    "## 1.2 什么是计算机语言\n",
    "<hr>\n",
    "\n",
    "<dl>\n",
    "    <dt>机器指令</dt>\n",
    "    <dd>计算机能直接识别和接受的二进制代码</dd>\n",
    "    <dt>机器语言</dt>\n",
    "    <dd>机器指令的集合</dd>\n",
    "</dl>"
   ]
  },
  {
   "cell_type": "markdown",
   "metadata": {
    "slideshow": {
     "slide_type": "subslide"
    }
   },
   "source": [
    "机器语言的优缺点:\n",
    "\n",
    "- 运行速度快，能充分发挥机器的性能"
   ]
  },
  {
   "cell_type": "markdown",
   "metadata": {
    "slideshow": {
     "slide_type": "fragment"
    }
   },
   "source": [
    "- 难学，难写，难记，难检查和修改"
   ]
  },
  {
   "cell_type": "markdown",
   "metadata": {
    "slideshow": {
     "slide_type": "fragment"
    }
   },
   "source": [
    "- 不同机器的指令不同"
   ]
  },
  {
   "cell_type": "markdown",
   "metadata": {
    "slideshow": {
     "slide_type": "subslide"
    }
   },
   "source": [
    "### 1.2.1 机器语言\n",
    "![机器语言](../html/images/机器语言.png)"
   ]
  },
  {
   "cell_type": "markdown",
   "metadata": {
    "slideshow": {
     "slide_type": "subslide"
    }
   },
   "source": [
    "### 1.2.1 机器语言\n",
    "![机器语言](../html/images/paper_tape4.png)"
   ]
  },
  {
   "cell_type": "markdown",
   "metadata": {
    "slideshow": {
     "slide_type": "subslide"
    }
   },
   "source": [
    "### 1.2.1 机器语言\n",
    "![机器语言](../html/images/paper_tape2.png)"
   ]
  },
  {
   "cell_type": "markdown",
   "metadata": {
    "slideshow": {
     "slide_type": "subslide"
    }
   },
   "source": [
    "### 1.2.1 机器语言\n",
    "![机器语言](../html/images/paper_tape3.png)"
   ]
  },
  {
   "cell_type": "markdown",
   "metadata": {
    "slideshow": {
     "slide_type": "subslide"
    }
   },
   "source": [
    "### 1.2.2 汇编语言\n",
    "<hr>\n",
    "<p style=\"text-align: left\"><span class=\"red\">符号语言（symbolic language）</span>: 用一些英文字母（单词）和数字来表示一个指令。</p>\n",
    "<p style=\"text-align: left\">计算机不能直接识别符号语言，必须经过<span class=\"red\">编译器（compiler）</span>编译（compile）为机器语言指令，计算机才能识别和运行。</p>\n",
    "<p style=\"text-align: left\">因此，符号语言又称为<span class=\"green\">汇编语言（assembler language）</span>。</p>\n",
    "\n",
    "```asm\n",
    "ADD A, B (将A寄存器中的数和B寄存器中的数相加，结果放回A中)\n",
    "```\n",
    "\n",
    "![ASM](../html/images/asm.png)"
   ]
  },
  {
   "cell_type": "markdown",
   "metadata": {
    "slideshow": {
     "slide_type": "subslide"
    }
   },
   "source": [
    "### 1.2.2 汇编语言\n",
    "<hr>\n",
    "\n",
    "汇编语言的优缺点：\n",
    "\n",
    "- <span class=\"green\">基本上和机器语言一一对应，所以依然运行速度快，能充分发挥机器的性能</span>\n",
    "- <span class=\"red\">比机器语言指令稍好记一点，但不好移植，不同机器不同指令</span>\n",
    "- <span class=\"red\">一些复杂算法不好实现，不适合编写大型的程序（人和机器的思维不同）</span>"
   ]
  },
  {
   "cell_type": "markdown",
   "metadata": {
    "slideshow": {
     "slide_type": "subslide"
    }
   },
   "source": [
    "### 1.2.3 高级语言\n",
    "<hr>\n",
    "\n",
    "<span class=\"red\">高级语言（high level language）</span>: 用人们习惯的自然语言和数学语言，一般不依赖具体的机器。\n",
    "\n",
    "![compile_and_link](../html/images/compile_and_link.png)\n",
    "\n",
    "计算机不能直接识别高级语言，必须经过<span class=\"red\">编译器（compiler）</span>编译（compile）为机器语言指令，计算机才能识别和运行。\n",
    "\n",
    "有时，编译好的机器语言代码还需要<span class=\"green\">链接（link）</span>其他的机器语言代码，组成最终的机器语言代码进行运行。"
   ]
  },
  {
   "cell_type": "markdown",
   "metadata": {
    "slideshow": {
     "slide_type": "subslide"
    }
   },
   "source": [
    "### 1.2.3 高级语言\n",
    "<hr>\n",
    "高级语言例子：用参数方程绘制圆\n",
    "\n",
    "```python\n",
    "angle = 0\n",
    "radius = 50\n",
    "while angle < 360 do :\n",
    "  x = radius * sin ( angle * PI / 180.0 )\n",
    "  y = radius * cos ( angle * PI / 180.0 )\n",
    "  plot ( x, y)\n",
    "  angle = angle + 10\n",
    "```    "
   ]
  },
  {
   "cell_type": "markdown",
   "metadata": {
    "slideshow": {
     "slide_type": "subslide"
    }
   },
   "source": [
    "### 1.2.3 高级语言--优点和缺点\n",
    "<hr>\n",
    "\n",
    "- <span class=\"fade-in fade-out green\">不同机器上可以有不同的编译器编译为各自的机器语言指令，可移植性较好</span>\n",
    "- <span class=\"zoom-in zoom-out green\" style=\"transition-delay: 1s\">可以一条语句编译为多条指令，编程效率高，也可以实现复杂算法和大型程序的组织</span>\n",
    "- <span class=\"fly-in  fly-out red\" style=\"transition-delay: 2s\">由于不是一一对应机器语言指令，编译不好的程序可能运行效率比较低</span>"
   ]
  },
  {
   "cell_type": "markdown",
   "metadata": {
    "slideshow": {
     "slide_type": "subslide"
    }
   },
   "source": [
    "### 1.2.3 高级语言--种类\n",
    "<hr>\n",
    "\n",
    "- <span class=\"green\">静态（编译）语言</span>：在运行前先经过编译和链接转换为机器语言程序，如C, C++等\n",
    "- <span class=\"red\">动态（编译）语言</span>：在运行的时候边编译为机器语言指令边运行，也称为脚本语言， 如 javascript, python, ruby等\n",
    "- <span class=\"blue\">中间（编译）语言</span>：在运行前先经过编译和链接转换为中间语言程序（字节码），在运行的时候才编译为机器语言运行，如java, C#等"
   ]
  },
  {
   "cell_type": "markdown",
   "metadata": {
    "slideshow": {
     "slide_type": "slide"
    }
   },
   "source": [
    "## 1.3 C语言的发展及其特点"
   ]
  },
  {
   "cell_type": "markdown",
   "metadata": {
    "slideshow": {
     "slide_type": "subslide"
    }
   },
   "source": [
    "### 1.3.1 `BCPL`语言\n",
    "<hr>\n",
    "\n",
    "<img align=\"right\" src=\"../html/images/Martin_Richards.gif\" alt=\"Martin Richards\">\n",
    "\n",
    "1967年，英国剑桥大学 Martin Richards。\n",
    "\n",
    "```BCPL\n",
    "GET \"LIBHDR\"\n",
    "LET START() = VALOF $(\n",
    "   FOR I = 1 TO 5 DO\n",
    "      WRITEF(\"%N! = %I4*N\", I, FACT(I))\n",
    "      RESULTIS 0\n",
    "$)\n",
    "AND FACT(N) = N = 0 -> 1, N * FACT(N - 1)\n",
    "```"
   ]
  },
  {
   "cell_type": "markdown",
   "metadata": {
    "slideshow": {
     "slide_type": "subslide"
    }
   },
   "source": [
    "### 1.3.2 `B`语言\n",
    "<hr>\n",
    "\n",
    "<img align=\"right\" src=\"../html/images/Ken_Thompson.jpg\" alt=\"Ken Thompson\">\n",
    "\n",
    "1970年，美国AT&amp;T Ken Thompson。\n",
    "\n",
    "```B\n",
    "printn(n, b) {\n",
    "    extrn putchar;\n",
    "    auto a;\n",
    "\n",
    "    if (a = n / b)        /* assignment, not test for equality */\n",
    "            printn(a, b); /* recursive */\n",
    "    putchar(n % b + '0');\n",
    "}\n",
    "```"
   ]
  },
  {
   "cell_type": "markdown",
   "metadata": {
    "slideshow": {
     "slide_type": "subslide"
    }
   },
   "source": [
    "### 1.3.3 `C`语言\n",
    "<hr>\n",
    "<img align=\"right\" src=\"../html/images/Dennis_Ritchie_2011.jpg\" alt=\"Dennis_Ritchie\" style=\"width:200px;\">\n",
    "\n",
    "1972-1973年，美国AT&T Dennis Ritchie\n",
    "\n",
    "```C\n",
    "#include <stdio.h>\n",
    "\n",
    "int main(void)\n",
    "{\n",
    "    printf(\"hello, world\\n\");\n",
    "}\n",
    "```"
   ]
  },
  {
   "cell_type": "markdown",
   "metadata": {
    "slideshow": {
     "slide_type": "subslide"
    }
   },
   "source": [
    "### 1.3.4 开发C语言的目的\n",
    "<hr>\n",
    "\n",
    "- 提供多种数据类型并提供静态的检查\n",
    "- 降低对平台的依赖，具有很好的移植性"
   ]
  },
  {
   "cell_type": "markdown",
   "metadata": {
    "slideshow": {
     "slide_type": "subslide"
    }
   },
   "source": [
    "### 1.3.5 C语言的应用和发展\n",
    "<hr>\n",
    "\n",
    "- 1969, Ken Thompson 和 Dennis Ritchie 用汇编语言开发UNIX第一版\n",
    "- 1973, Dennis Ritchie 发明C语言\n",
    "- 1973, Ken Thompson 和 Dennis Ritchie 用C语言重写UNIX第五版（90%）\n",
    "- 1978, C语言先后移植到大中小和微型机上"
   ]
  },
  {
   "cell_type": "markdown",
   "metadata": {
    "slideshow": {
     "slide_type": "subslide"
    }
   },
   "source": [
    "### 1.3.6 C 标准\n",
    "<hr>\n",
    "\n",
    "- 1978年，在UNIX第7版的C语言编译程序为基础，Brian W. Kernighan 和 Dennis Ritchie, 《The C Programming Language》,\"C圣经（Bible）\" , K&R C\n",
    "- 1989年, Brian W. Kernighan 和 Dennis Ritchie, 《The C Programming Language, 2nd》, ANSI89, ISO1990, C89\n",
    "- 1999年, ISO1999, C99\n",
    "- 2011年, ISO2011, C11\n",
    "- 2017年, ISO2017, C17\n",
    "- 20xx年, ISO20xx, C2x<span class=\"red\">?</span>"
   ]
  },
  {
   "cell_type": "markdown",
   "metadata": {
    "slideshow": {
     "slide_type": "subslide"
    }
   },
   "source": [
    "### 1.3.7 C 语言的特点\n",
    "<hr>\n",
    "\n",
    "- 语言简洁紧凑，使用方便灵活\n",
    "- 运算符丰富\n",
    "- 数据类型丰富\n",
    "- 有结构化的控制语句\n",
    "- 语法限制不严格，设计自由度大\n",
    "- 运行直接访问物理地址，位操作，实现汇编的绝大部分功能\n",
    "- 可移植性好\n",
    "- 生成目标代码质量高，程序执行效率高"
   ]
  },
  {
   "cell_type": "markdown",
   "metadata": {
    "slideshow": {
     "slide_type": "subslide"
    }
   },
   "source": [
    "### 1.3.8 C 语言的用途\n",
    "<hr>\n",
    "\n",
    "- 操作系统（几乎所有，windows，Mac OS，Linux等）\n",
    "- 要求性能高的程序，比如游戏，实时控制系统"
   ]
  },
  {
   "cell_type": "markdown",
   "metadata": {
    "slideshow": {
     "slide_type": "slide"
    }
   },
   "source": [
    "## 1.4 简单的C语言程序浏览"
   ]
  },
  {
   "cell_type": "markdown",
   "metadata": {
    "slideshow": {
     "slide_type": "subslide"
    }
   },
   "source": [
    "### 1.4.1 最简单的C语言程序\n",
    "<hr>\n",
    "<b>例 1.1 </b> 要求在屏幕上输出一行信息:\n",
    "\n",
    "```c\n",
    "Hello World!\n",
    "```"
   ]
  },
  {
   "cell_type": "code",
   "execution_count": 1,
   "metadata": {
    "scrolled": true,
    "slideshow": {
     "slide_type": "subslide"
    }
   },
   "outputs": [
    {
     "name": "stdout",
     "output_type": "stream",
     "text": [
      "Hello world!"
     ]
    }
   ],
   "source": [
    "/*这里是注释, 注释是不会被编译的\n",
    "会被自动忽略, 但是注释比较重要，可以可以提示代码的作用*/\n",
    "//这个也是注释\n",
    "//带#号的是预编译指令，#include<xxx>是把xxx文件的内容插入到当前位置\n",
    "//这里是把printf库函数的声明信息插入进来\n",
    "#include <stdio.h>\n",
    "int main() //C语言的程序的最初入口和最后出口\n",
    "{ //main函数的开始\n",
    "    printf(\"Hello world!\"); \n",
    "    //输出文字到屏幕（标准输出设备），使用库函数printf\n",
    "} //main函数的结束"
   ]
  },
  {
   "cell_type": "code",
   "execution_count": null,
   "metadata": {
    "slideshow": {
     "slide_type": "subslide"
    }
   },
   "outputs": [],
   "source": []
  }
 ],
 "metadata": {
  "celltoolbar": "幻灯片",
  "kernelspec": {
   "display_name": "C",
   "language": "c",
   "name": "c"
  },
  "language_info": {
   "file_extension": ".c",
   "mimetype": "text/plain",
   "name": "c"
  }
 },
 "nbformat": 4,
 "nbformat_minor": 2
}
